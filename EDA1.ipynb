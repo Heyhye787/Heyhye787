{
 "cells": [
  {
   "cell_type": "code",
   "execution_count": 2,
   "id": "9d432e7f-4762-4bf6-a6fc-56e17a9aba02",
   "metadata": {},
   "outputs": [],
   "source": [
    "import numpy as np\n",
    "import pandas as pd\n",
    "import matplotlib.pyplot as plt\n",
    "from numpy import nan\n",
    "import seaborn as sns\n",
    "\n",
    "df = pd.read_csv('./EDAN0.csv')\n",
    "de = pd.read_csv('./EDA.csv')"
   ]
  },
  {
   "cell_type": "code",
   "execution_count": 3,
   "id": "49739948-a4ad-4bea-bd79-f38ab4fba1eb",
   "metadata": {},
   "outputs": [
    {
     "data": {
      "text/html": [
       "<div>\n",
       "<style scoped>\n",
       "    .dataframe tbody tr th:only-of-type {\n",
       "        vertical-align: middle;\n",
       "    }\n",
       "\n",
       "    .dataframe tbody tr th {\n",
       "        vertical-align: top;\n",
       "    }\n",
       "\n",
       "    .dataframe thead th {\n",
       "        text-align: right;\n",
       "    }\n",
       "</style>\n",
       "<table border=\"1\" class=\"dataframe\">\n",
       "  <thead>\n",
       "    <tr style=\"text-align: right;\">\n",
       "      <th></th>\n",
       "      <th>id</th>\n",
       "      <th>c_dpy</th>\n",
       "      <th>c_id</th>\n",
       "      <th>c_it</th>\n",
       "      <th>c_model</th>\n",
       "      <th>c_nap</th>\n",
       "      <th>c_opt</th>\n",
       "      <th>c_ss_wsx</th>\n",
       "      <th>c_tap</th>\n",
       "      <th>c_tpy</th>\n",
       "      <th>...</th>\n",
       "      <th>i_m_v_2</th>\n",
       "      <th>i_m_v_3</th>\n",
       "      <th>ivt_id</th>\n",
       "      <th>wpc_id</th>\n",
       "      <th>stime</th>\n",
       "      <th>spt_a</th>\n",
       "      <th>spt_b</th>\n",
       "      <th>irra_a</th>\n",
       "      <th>irra_b</th>\n",
       "      <th>pr</th>\n",
       "    </tr>\n",
       "  </thead>\n",
       "  <tbody>\n",
       "    <tr>\n",
       "      <th>0</th>\n",
       "      <td>4826</td>\n",
       "      <td>1</td>\n",
       "      <td>3.130000e+31</td>\n",
       "      <td>172</td>\n",
       "      <td>74</td>\n",
       "      <td>360</td>\n",
       "      <td>1</td>\n",
       "      <td>03de</td>\n",
       "      <td>651</td>\n",
       "      <td>124748</td>\n",
       "      <td>...</td>\n",
       "      <td>6792</td>\n",
       "      <td>6781</td>\n",
       "      <td>31</td>\n",
       "      <td>WPC2020093001</td>\n",
       "      <td>2022/1/1 07:15</td>\n",
       "      <td>15.3</td>\n",
       "      <td>14.3</td>\n",
       "      <td>15</td>\n",
       "      <td>15</td>\n",
       "      <td>NaN</td>\n",
       "    </tr>\n",
       "    <tr>\n",
       "      <th>1</th>\n",
       "      <td>4882</td>\n",
       "      <td>1</td>\n",
       "      <td>3.130000e+31</td>\n",
       "      <td>176</td>\n",
       "      <td>74</td>\n",
       "      <td>360</td>\n",
       "      <td>1</td>\n",
       "      <td>03de</td>\n",
       "      <td>606</td>\n",
       "      <td>124748</td>\n",
       "      <td>...</td>\n",
       "      <td>6801</td>\n",
       "      <td>6791</td>\n",
       "      <td>31</td>\n",
       "      <td>WPC2020093001</td>\n",
       "      <td>2022/1/1 07:20</td>\n",
       "      <td>15.4</td>\n",
       "      <td>14.4</td>\n",
       "      <td>13</td>\n",
       "      <td>15</td>\n",
       "      <td>NaN</td>\n",
       "    </tr>\n",
       "    <tr>\n",
       "      <th>2</th>\n",
       "      <td>4938</td>\n",
       "      <td>2</td>\n",
       "      <td>3.130000e+31</td>\n",
       "      <td>181</td>\n",
       "      <td>74</td>\n",
       "      <td>360</td>\n",
       "      <td>1</td>\n",
       "      <td>03de</td>\n",
       "      <td>599</td>\n",
       "      <td>124748</td>\n",
       "      <td>...</td>\n",
       "      <td>6846</td>\n",
       "      <td>6836</td>\n",
       "      <td>31</td>\n",
       "      <td>WPC2020093001</td>\n",
       "      <td>2022/1/1 07:25</td>\n",
       "      <td>15.5</td>\n",
       "      <td>14.5</td>\n",
       "      <td>13</td>\n",
       "      <td>14</td>\n",
       "      <td>NaN</td>\n",
       "    </tr>\n",
       "    <tr>\n",
       "      <th>3</th>\n",
       "      <td>4994</td>\n",
       "      <td>2</td>\n",
       "      <td>3.130000e+31</td>\n",
       "      <td>186</td>\n",
       "      <td>74</td>\n",
       "      <td>360</td>\n",
       "      <td>1</td>\n",
       "      <td>03de</td>\n",
       "      <td>731</td>\n",
       "      <td>124748</td>\n",
       "      <td>...</td>\n",
       "      <td>6852</td>\n",
       "      <td>6841</td>\n",
       "      <td>31</td>\n",
       "      <td>WPC2020093001</td>\n",
       "      <td>2022/1/1 07:30</td>\n",
       "      <td>15.6</td>\n",
       "      <td>14.6</td>\n",
       "      <td>17</td>\n",
       "      <td>17</td>\n",
       "      <td>NaN</td>\n",
       "    </tr>\n",
       "    <tr>\n",
       "      <th>4</th>\n",
       "      <td>5050</td>\n",
       "      <td>3</td>\n",
       "      <td>3.130000e+31</td>\n",
       "      <td>190</td>\n",
       "      <td>74</td>\n",
       "      <td>360</td>\n",
       "      <td>1</td>\n",
       "      <td>03de</td>\n",
       "      <td>1008</td>\n",
       "      <td>124748</td>\n",
       "      <td>...</td>\n",
       "      <td>7005</td>\n",
       "      <td>6994</td>\n",
       "      <td>31</td>\n",
       "      <td>WPC2020093001</td>\n",
       "      <td>2022/1/1 07:35</td>\n",
       "      <td>15.7</td>\n",
       "      <td>14.8</td>\n",
       "      <td>25</td>\n",
       "      <td>26</td>\n",
       "      <td>NaN</td>\n",
       "    </tr>\n",
       "  </tbody>\n",
       "</table>\n",
       "<p>5 rows × 37 columns</p>\n",
       "</div>"
      ],
      "text/plain": [
       "     id  c_dpy          c_id  c_it  c_model  c_nap  c_opt c_ss_wsx  c_tap  \\\n",
       "0  4826      1  3.130000e+31   172       74    360      1     03de    651   \n",
       "1  4882      1  3.130000e+31   176       74    360      1     03de    606   \n",
       "2  4938      2  3.130000e+31   181       74    360      1     03de    599   \n",
       "3  4994      2  3.130000e+31   186       74    360      1     03de    731   \n",
       "4  5050      3  3.130000e+31   190       74    360      1     03de   1008   \n",
       "\n",
       "    c_tpy  ...  i_m_v_2 i_m_v_3  ivt_id         wpc_id           stime  spt_a  \\\n",
       "0  124748  ...     6792    6781      31  WPC2020093001  2022/1/1 07:15   15.3   \n",
       "1  124748  ...     6801    6791      31  WPC2020093001  2022/1/1 07:20   15.4   \n",
       "2  124748  ...     6846    6836      31  WPC2020093001  2022/1/1 07:25   15.5   \n",
       "3  124748  ...     6852    6841      31  WPC2020093001  2022/1/1 07:30   15.6   \n",
       "4  124748  ...     7005    6994      31  WPC2020093001  2022/1/1 07:35   15.7   \n",
       "\n",
       "   spt_b  irra_a  irra_b  pr  \n",
       "0   14.3      15      15 NaN  \n",
       "1   14.4      13      15 NaN  \n",
       "2   14.5      13      14 NaN  \n",
       "3   14.6      17      17 NaN  \n",
       "4   14.8      25      26 NaN  \n",
       "\n",
       "[5 rows x 37 columns]"
      ]
     },
     "execution_count": 2,
     "metadata": {},
     "output_type": "execute_result"
    }
   ],
   "source": [
    "df.head()"
   ]
  },
  {
   "cell_type": "code",
   "execution_count": 4,
   "id": "d397cd47-da1a-44ba-b400-9da09f35f4ff",
   "metadata": {},
   "outputs": [
    {
     "data": {
      "text/html": [
       "<div>\n",
       "<style scoped>\n",
       "    .dataframe tbody tr th:only-of-type {\n",
       "        vertical-align: middle;\n",
       "    }\n",
       "\n",
       "    .dataframe tbody tr th {\n",
       "        vertical-align: top;\n",
       "    }\n",
       "\n",
       "    .dataframe thead th {\n",
       "        text-align: right;\n",
       "    }\n",
       "</style>\n",
       "<table border=\"1\" class=\"dataframe\">\n",
       "  <thead>\n",
       "    <tr style=\"text-align: right;\">\n",
       "      <th></th>\n",
       "      <th>id</th>\n",
       "      <th>c_dpy</th>\n",
       "      <th>c_id</th>\n",
       "      <th>c_it</th>\n",
       "      <th>c_model</th>\n",
       "      <th>c_nap</th>\n",
       "      <th>c_opt</th>\n",
       "      <th>c_ss_wsx</th>\n",
       "      <th>c_tap</th>\n",
       "      <th>c_tpy</th>\n",
       "      <th>...</th>\n",
       "      <th>i_m_v_2</th>\n",
       "      <th>i_m_v_3</th>\n",
       "      <th>ivt_id</th>\n",
       "      <th>wpc_id</th>\n",
       "      <th>stime</th>\n",
       "      <th>spt_a</th>\n",
       "      <th>spt_b</th>\n",
       "      <th>irra_a</th>\n",
       "      <th>irra_b</th>\n",
       "      <th>pr</th>\n",
       "    </tr>\n",
       "  </thead>\n",
       "  <tbody>\n",
       "    <tr>\n",
       "      <th>0</th>\n",
       "      <td>4826</td>\n",
       "      <td>1</td>\n",
       "      <td>3.130000e+31</td>\n",
       "      <td>172</td>\n",
       "      <td>74</td>\n",
       "      <td>360</td>\n",
       "      <td>1</td>\n",
       "      <td>03de</td>\n",
       "      <td>651</td>\n",
       "      <td>124748</td>\n",
       "      <td>...</td>\n",
       "      <td>6792</td>\n",
       "      <td>6781</td>\n",
       "      <td>31</td>\n",
       "      <td>WPC2020093001</td>\n",
       "      <td>2022/1/1 07:15</td>\n",
       "      <td>15.3</td>\n",
       "      <td>14.3</td>\n",
       "      <td>15</td>\n",
       "      <td>15</td>\n",
       "      <td>NaN</td>\n",
       "    </tr>\n",
       "    <tr>\n",
       "      <th>1</th>\n",
       "      <td>4882</td>\n",
       "      <td>1</td>\n",
       "      <td>3.130000e+31</td>\n",
       "      <td>176</td>\n",
       "      <td>74</td>\n",
       "      <td>360</td>\n",
       "      <td>1</td>\n",
       "      <td>03de</td>\n",
       "      <td>606</td>\n",
       "      <td>124748</td>\n",
       "      <td>...</td>\n",
       "      <td>6801</td>\n",
       "      <td>6791</td>\n",
       "      <td>31</td>\n",
       "      <td>WPC2020093001</td>\n",
       "      <td>2022/1/1 07:20</td>\n",
       "      <td>15.4</td>\n",
       "      <td>14.4</td>\n",
       "      <td>13</td>\n",
       "      <td>15</td>\n",
       "      <td>NaN</td>\n",
       "    </tr>\n",
       "    <tr>\n",
       "      <th>2</th>\n",
       "      <td>4938</td>\n",
       "      <td>2</td>\n",
       "      <td>3.130000e+31</td>\n",
       "      <td>181</td>\n",
       "      <td>74</td>\n",
       "      <td>360</td>\n",
       "      <td>1</td>\n",
       "      <td>03de</td>\n",
       "      <td>599</td>\n",
       "      <td>124748</td>\n",
       "      <td>...</td>\n",
       "      <td>6846</td>\n",
       "      <td>6836</td>\n",
       "      <td>31</td>\n",
       "      <td>WPC2020093001</td>\n",
       "      <td>2022/1/1 07:25</td>\n",
       "      <td>15.5</td>\n",
       "      <td>14.5</td>\n",
       "      <td>13</td>\n",
       "      <td>14</td>\n",
       "      <td>NaN</td>\n",
       "    </tr>\n",
       "    <tr>\n",
       "      <th>3</th>\n",
       "      <td>4994</td>\n",
       "      <td>2</td>\n",
       "      <td>3.130000e+31</td>\n",
       "      <td>186</td>\n",
       "      <td>74</td>\n",
       "      <td>360</td>\n",
       "      <td>1</td>\n",
       "      <td>03de</td>\n",
       "      <td>731</td>\n",
       "      <td>124748</td>\n",
       "      <td>...</td>\n",
       "      <td>6852</td>\n",
       "      <td>6841</td>\n",
       "      <td>31</td>\n",
       "      <td>WPC2020093001</td>\n",
       "      <td>2022/1/1 07:30</td>\n",
       "      <td>15.6</td>\n",
       "      <td>14.6</td>\n",
       "      <td>17</td>\n",
       "      <td>17</td>\n",
       "      <td>NaN</td>\n",
       "    </tr>\n",
       "    <tr>\n",
       "      <th>4</th>\n",
       "      <td>5050</td>\n",
       "      <td>3</td>\n",
       "      <td>3.130000e+31</td>\n",
       "      <td>190</td>\n",
       "      <td>74</td>\n",
       "      <td>360</td>\n",
       "      <td>1</td>\n",
       "      <td>03de</td>\n",
       "      <td>1008</td>\n",
       "      <td>124748</td>\n",
       "      <td>...</td>\n",
       "      <td>7005</td>\n",
       "      <td>6994</td>\n",
       "      <td>31</td>\n",
       "      <td>WPC2020093001</td>\n",
       "      <td>2022/1/1 07:35</td>\n",
       "      <td>15.7</td>\n",
       "      <td>14.8</td>\n",
       "      <td>25</td>\n",
       "      <td>26</td>\n",
       "      <td>NaN</td>\n",
       "    </tr>\n",
       "    <tr>\n",
       "      <th>...</th>\n",
       "      <td>...</td>\n",
       "      <td>...</td>\n",
       "      <td>...</td>\n",
       "      <td>...</td>\n",
       "      <td>...</td>\n",
       "      <td>...</td>\n",
       "      <td>...</td>\n",
       "      <td>...</td>\n",
       "      <td>...</td>\n",
       "      <td>...</td>\n",
       "      <td>...</td>\n",
       "      <td>...</td>\n",
       "      <td>...</td>\n",
       "      <td>...</td>\n",
       "      <td>...</td>\n",
       "      <td>...</td>\n",
       "      <td>...</td>\n",
       "      <td>...</td>\n",
       "      <td>...</td>\n",
       "      <td>...</td>\n",
       "      <td>...</td>\n",
       "    </tr>\n",
       "    <tr>\n",
       "      <th>22127</th>\n",
       "      <td>11875</td>\n",
       "      <td>1779</td>\n",
       "      <td>3.130000e+31</td>\n",
       "      <td>404</td>\n",
       "      <td>74</td>\n",
       "      <td>360</td>\n",
       "      <td>1</td>\n",
       "      <td>03de</td>\n",
       "      <td>1573</td>\n",
       "      <td>143244</td>\n",
       "      <td>...</td>\n",
       "      <td>6951</td>\n",
       "      <td>6943</td>\n",
       "      <td>31</td>\n",
       "      <td>WPC2020093001</td>\n",
       "      <td>2022/6/30 18:05</td>\n",
       "      <td>30.7</td>\n",
       "      <td>30.3</td>\n",
       "      <td>47</td>\n",
       "      <td>56</td>\n",
       "      <td>NaN</td>\n",
       "    </tr>\n",
       "    <tr>\n",
       "      <th>22128</th>\n",
       "      <td>11931</td>\n",
       "      <td>1780</td>\n",
       "      <td>3.130000e+31</td>\n",
       "      <td>404</td>\n",
       "      <td>74</td>\n",
       "      <td>360</td>\n",
       "      <td>1</td>\n",
       "      <td>03de</td>\n",
       "      <td>1365</td>\n",
       "      <td>143244</td>\n",
       "      <td>...</td>\n",
       "      <td>6877</td>\n",
       "      <td>6868</td>\n",
       "      <td>31</td>\n",
       "      <td>WPC2020093001</td>\n",
       "      <td>2022/6/30 18:10</td>\n",
       "      <td>30.1</td>\n",
       "      <td>29.6</td>\n",
       "      <td>36</td>\n",
       "      <td>41</td>\n",
       "      <td>NaN</td>\n",
       "    </tr>\n",
       "    <tr>\n",
       "      <th>22129</th>\n",
       "      <td>11987</td>\n",
       "      <td>1781</td>\n",
       "      <td>3.130000e+31</td>\n",
       "      <td>402</td>\n",
       "      <td>74</td>\n",
       "      <td>360</td>\n",
       "      <td>1</td>\n",
       "      <td>03de</td>\n",
       "      <td>1234</td>\n",
       "      <td>143244</td>\n",
       "      <td>...</td>\n",
       "      <td>6826</td>\n",
       "      <td>6817</td>\n",
       "      <td>31</td>\n",
       "      <td>WPC2020093001</td>\n",
       "      <td>2022/6/30 18:15</td>\n",
       "      <td>29.8</td>\n",
       "      <td>28.9</td>\n",
       "      <td>31</td>\n",
       "      <td>34</td>\n",
       "      <td>NaN</td>\n",
       "    </tr>\n",
       "    <tr>\n",
       "      <th>22130</th>\n",
       "      <td>12043</td>\n",
       "      <td>1782</td>\n",
       "      <td>3.130000e+31</td>\n",
       "      <td>402</td>\n",
       "      <td>74</td>\n",
       "      <td>360</td>\n",
       "      <td>1</td>\n",
       "      <td>03de</td>\n",
       "      <td>1075</td>\n",
       "      <td>143244</td>\n",
       "      <td>...</td>\n",
       "      <td>6829</td>\n",
       "      <td>6820</td>\n",
       "      <td>31</td>\n",
       "      <td>WPC2020093001</td>\n",
       "      <td>2022/6/30 18:20</td>\n",
       "      <td>29.4</td>\n",
       "      <td>28.5</td>\n",
       "      <td>26</td>\n",
       "      <td>30</td>\n",
       "      <td>NaN</td>\n",
       "    </tr>\n",
       "    <tr>\n",
       "      <th>22131</th>\n",
       "      <td>12099</td>\n",
       "      <td>1783</td>\n",
       "      <td>3.130000e+31</td>\n",
       "      <td>401</td>\n",
       "      <td>74</td>\n",
       "      <td>360</td>\n",
       "      <td>1</td>\n",
       "      <td>03de</td>\n",
       "      <td>886</td>\n",
       "      <td>143244</td>\n",
       "      <td>...</td>\n",
       "      <td>6677</td>\n",
       "      <td>6669</td>\n",
       "      <td>31</td>\n",
       "      <td>WPC2020093001</td>\n",
       "      <td>2022/6/30 18:25</td>\n",
       "      <td>29.2</td>\n",
       "      <td>28.2</td>\n",
       "      <td>20</td>\n",
       "      <td>23</td>\n",
       "      <td>NaN</td>\n",
       "    </tr>\n",
       "  </tbody>\n",
       "</table>\n",
       "<p>22132 rows × 37 columns</p>\n",
       "</div>"
      ],
      "text/plain": [
       "          id  c_dpy          c_id  c_it  c_model  c_nap  c_opt c_ss_wsx  \\\n",
       "0       4826      1  3.130000e+31   172       74    360      1     03de   \n",
       "1       4882      1  3.130000e+31   176       74    360      1     03de   \n",
       "2       4938      2  3.130000e+31   181       74    360      1     03de   \n",
       "3       4994      2  3.130000e+31   186       74    360      1     03de   \n",
       "4       5050      3  3.130000e+31   190       74    360      1     03de   \n",
       "...      ...    ...           ...   ...      ...    ...    ...      ...   \n",
       "22127  11875   1779  3.130000e+31   404       74    360      1     03de   \n",
       "22128  11931   1780  3.130000e+31   404       74    360      1     03de   \n",
       "22129  11987   1781  3.130000e+31   402       74    360      1     03de   \n",
       "22130  12043   1782  3.130000e+31   402       74    360      1     03de   \n",
       "22131  12099   1783  3.130000e+31   401       74    360      1     03de   \n",
       "\n",
       "       c_tap   c_tpy  ...  i_m_v_2 i_m_v_3  ivt_id         wpc_id  \\\n",
       "0        651  124748  ...     6792    6781      31  WPC2020093001   \n",
       "1        606  124748  ...     6801    6791      31  WPC2020093001   \n",
       "2        599  124748  ...     6846    6836      31  WPC2020093001   \n",
       "3        731  124748  ...     6852    6841      31  WPC2020093001   \n",
       "4       1008  124748  ...     7005    6994      31  WPC2020093001   \n",
       "...      ...     ...  ...      ...     ...     ...            ...   \n",
       "22127   1573  143244  ...     6951    6943      31  WPC2020093001   \n",
       "22128   1365  143244  ...     6877    6868      31  WPC2020093001   \n",
       "22129   1234  143244  ...     6826    6817      31  WPC2020093001   \n",
       "22130   1075  143244  ...     6829    6820      31  WPC2020093001   \n",
       "22131    886  143244  ...     6677    6669      31  WPC2020093001   \n",
       "\n",
       "                 stime  spt_a  spt_b  irra_a  irra_b  pr  \n",
       "0       2022/1/1 07:15   15.3   14.3      15      15 NaN  \n",
       "1       2022/1/1 07:20   15.4   14.4      13      15 NaN  \n",
       "2       2022/1/1 07:25   15.5   14.5      13      14 NaN  \n",
       "3       2022/1/1 07:30   15.6   14.6      17      17 NaN  \n",
       "4       2022/1/1 07:35   15.7   14.8      25      26 NaN  \n",
       "...                ...    ...    ...     ...     ...  ..  \n",
       "22127  2022/6/30 18:05   30.7   30.3      47      56 NaN  \n",
       "22128  2022/6/30 18:10   30.1   29.6      36      41 NaN  \n",
       "22129  2022/6/30 18:15   29.8   28.9      31      34 NaN  \n",
       "22130  2022/6/30 18:20   29.4   28.5      26      30 NaN  \n",
       "22131  2022/6/30 18:25   29.2   28.2      20      23 NaN  \n",
       "\n",
       "[22132 rows x 37 columns]"
      ]
     },
     "execution_count": 3,
     "metadata": {},
     "output_type": "execute_result"
    }
   ],
   "source": [
    "df"
   ]
  },
  {
   "cell_type": "code",
   "execution_count": 5,
   "id": "2340b186-2220-4acc-b4b3-d54971ffd3f8",
   "metadata": {},
   "outputs": [
    {
     "data": {
      "text/plain": [
       "(22132, 37)"
      ]
     },
     "execution_count": 4,
     "metadata": {},
     "output_type": "execute_result"
    }
   ],
   "source": [
    "df.shape"
   ]
  },
  {
   "cell_type": "code",
   "execution_count": 6,
   "id": "58a9a980-3ad2-4e1c-bf4b-69429274de56",
   "metadata": {},
   "outputs": [],
   "source": [
    "ds = pd.DataFrame({\"power\":df['c_dpy'],\n",
    "                   \"time\":df['stime'],\n",
    "                   \"sun\":df['irra_a']})"
   ]
  },
  {
   "cell_type": "code",
   "execution_count": 7,
   "id": "b46687fd-6759-40ea-a445-14d6cd2a21be",
   "metadata": {},
   "outputs": [
    {
     "data": {
      "text/plain": [
       "count    22132.000000\n",
       "mean       600.046720\n",
       "std        559.503094\n",
       "min          1.000000\n",
       "25%        145.000000\n",
       "50%        412.000000\n",
       "75%        913.000000\n",
       "max       2347.000000\n",
       "Name: c_dpy, dtype: float64"
      ]
     },
     "execution_count": 6,
     "metadata": {},
     "output_type": "execute_result"
    }
   ],
   "source": [
    "df['c_dpy'].describe()"
   ]
  },
  {
   "cell_type": "code",
   "execution_count": 8,
   "id": "a68a20e5-de8e-4ae3-8013-ef03236eab0c",
   "metadata": {},
   "outputs": [],
   "source": [
    "condition = df[\"c_dpy\"]== 0"
   ]
  },
  {
   "cell_type": "code",
   "execution_count": 9,
   "id": "b6a503b8-e665-4699-9754-cdd3646b709d",
   "metadata": {},
   "outputs": [
    {
     "data": {
      "text/plain": [
       "0        False\n",
       "1        False\n",
       "2        False\n",
       "3        False\n",
       "4        False\n",
       "         ...  \n",
       "22127    False\n",
       "22128    False\n",
       "22129    False\n",
       "22130    False\n",
       "22131    False\n",
       "Name: c_dpy, Length: 22132, dtype: bool"
      ]
     },
     "execution_count": 8,
     "metadata": {},
     "output_type": "execute_result"
    }
   ],
   "source": [
    "condition\n"
   ]
  },
  {
   "cell_type": "code",
   "execution_count": 10,
   "id": "0e681358-1276-4e3d-95a6-8e4b934cc9c7",
   "metadata": {},
   "outputs": [
    {
     "data": {
      "text/plain": [
       "(22132,)"
      ]
     },
     "execution_count": 9,
     "metadata": {},
     "output_type": "execute_result"
    }
   ],
   "source": [
    "condition.shape"
   ]
  },
  {
   "cell_type": "code",
   "execution_count": 11,
   "id": "ad5d08bc-b172-4ff9-848a-355f889e9ae5",
   "metadata": {},
   "outputs": [
    {
     "data": {
      "image/png": "[encoded data removed]",
      "text/plain": [
       "<Figure size 640x480 with 1 Axes>"
      ]
     },
     "metadata": {},
     "output_type": "display_data"
    }
   ],
   "source": [
    "plt.hist(df['c_dpy'])\n",
    "plt.title(\"Histogram\")\n",
    "plt.ylabel(\"time\")\n",
    "\n",
    "plt.xlabel(\"Values\")\n",
    "plt.show()"
   ]
  },
  {
   "cell_type": "code",
   "execution_count": 12,
   "id": "8a6ee037-cd7a-44d0-a980-493f980a77fd",
   "metadata": {},
   "outputs": [
    {
     "data": {
      "text/plain": [
       "(22132,)"
      ]
     },
     "execution_count": 11,
     "metadata": {},
     "output_type": "execute_result"
    }
   ],
   "source": [
    "df['c_dpy'].shape"
   ]
  },
  {
   "cell_type": "code",
   "execution_count": 13,
   "id": "59eed7d6-26c7-4cbd-9c1a-738e45dfeb55",
   "metadata": {},
   "outputs": [
    {
     "data": {
      "text/plain": [
       "0           1\n",
       "1           1\n",
       "2           2\n",
       "3           2\n",
       "4           3\n",
       "         ... \n",
       "22127    1779\n",
       "22128    1780\n",
       "22129    1781\n",
       "22130    1782\n",
       "22131    1783\n",
       "Name: c_dpy, Length: 22132, dtype: int64"
      ]
     },
     "execution_count": 12,
     "metadata": {},
     "output_type": "execute_result"
    }
   ],
   "source": [
    "df['c_dpy']"
   ]
  },
  {
   "cell_type": "code",
   "execution_count": 21,
   "id": "6f43475d-538e-4115-a473-cba22e62a0dd",
   "metadata": {},
   "outputs": [],
   "source": [
    "y = de['c_dpy'][:550]\n",
    "x = de['stime'][:550]\n",
    "y1 = de['c_dpy']\n",
    "x1 = de['stime']"
   ]
  },
  {
   "cell_type": "code",
   "execution_count": 22,
   "id": "a0b64719-7bad-412a-80e8-92bae9502239",
   "metadata": {},
   "outputs": [
    {
     "data": {
      "text/plain": [
       "<function matplotlib.pyplot.show(close=None, block=None)>"
      ]
     },
     "execution_count": 22,
     "metadata": {},
     "output_type": "execute_result"
    },
    {
     "data": {
      "image/png": "[encoded data removed]",
      "text/plain": [
       "<Figure size 640x480 with 1 Axes>"
      ]
     },
     "metadata": {},
     "output_type": "display_data"
    }
   ],
   "source": [
    "plt.plot(x,y,color='red')\n",
    "plt.show"
   ]
  },
  {
   "cell_type": "code",
   "execution_count": null,
   "id": "1930a22f",
   "metadata": {},
   "outputs": [
    {
     "data": {
      "text/plain": [
       "<function matplotlib.pyplot.show(close=None, block=None)>"
      ]
     },
     "execution_count": 15,
     "metadata": {},
     "output_type": "execute_result"
    },
    {
     "data": {
      "image/png": "[encoded data removed]",
      "text/plain": [
       "<Figure size 640x480 with 1 Axes>"
      ]
     },
     "metadata": {},
     "output_type": "display_data"
    }
   ],
   "source": [
    "plt.plot(x1,y1,color='red')\n",
    "plt.show"
   ]
  },
  {
   "cell_type": "code",
   "execution_count": null,
   "id": "50c81311-e782-49a6-a72b-520ba4bbafea",
   "metadata": {},
   "outputs": [
    {
     "data": {
      "text/plain": [
       "1       209\n",
       "2       175\n",
       "3       149\n",
       "4       117\n",
       "6       116\n",
       "       ... \n",
       "1785      1\n",
       "1988      1\n",
       "1996      1\n",
       "2019      1\n",
       "1410      1\n",
       "Name: c_dpy, Length: 2216, dtype: int64"
      ]
     },
     "execution_count": 16,
     "metadata": {},
     "output_type": "execute_result"
    }
   ],
   "source": [
    "df['c_dpy'].value_counts()"
   ]
  },
  {
   "cell_type": "code",
   "execution_count": null,
   "id": "c404d0fa",
   "metadata": {},
   "outputs": [
    {
     "data": {
      "text/plain": [
       "1       0.009443\n",
       "2       0.007907\n",
       "3       0.006732\n",
       "4       0.005286\n",
       "6       0.005241\n",
       "          ...   \n",
       "1785    0.000045\n",
       "1988    0.000045\n",
       "1996    0.000045\n",
       "2019    0.000045\n",
       "1410    0.000045\n",
       "Name: c_dpy, Length: 2216, dtype: float64"
      ]
     },
     "execution_count": 17,
     "metadata": {},
     "output_type": "execute_result"
    }
   ],
   "source": [
    "df['c_dpy'].value_counts(normalize=True)"
   ]
  },
  {
   "cell_type": "code",
   "execution_count": null,
   "id": "928d1221",
   "metadata": {},
   "outputs": [
    {
     "data": {
      "text/plain": [
       "0       18849\n",
       "1         209\n",
       "2         175\n",
       "3         149\n",
       "4         117\n",
       "        ...  \n",
       "2019        1\n",
       "2025        1\n",
       "2027        1\n",
       "2029        1\n",
       "1410        1\n",
       "Name: c_dpy, Length: 2217, dtype: int64"
      ]
     },
     "execution_count": 18,
     "metadata": {},
     "output_type": "execute_result"
    }
   ],
   "source": [
    "de['c_dpy'].value_counts()"
   ]
  },
  {
   "cell_type": "code",
   "execution_count": null,
   "id": "8fdf75f1",
   "metadata": {},
   "outputs": [
    {
     "data": {
      "text/plain": [
       "0       0.459945\n",
       "1       0.005100\n",
       "2       0.004270\n",
       "3       0.003636\n",
       "4       0.002855\n",
       "          ...   \n",
       "2019    0.000024\n",
       "2025    0.000024\n",
       "2027    0.000024\n",
       "2029    0.000024\n",
       "1410    0.000024\n",
       "Name: c_dpy, Length: 2217, dtype: float64"
      ]
     },
     "execution_count": 19,
     "metadata": {},
     "output_type": "execute_result"
    }
   ],
   "source": [
    "de['c_dpy'].value_counts(normalize=True)"
   ]
  },
  {
   "cell_type": "code",
   "execution_count": null,
   "id": "ae4163dc",
   "metadata": {},
   "outputs": [],
   "source": []
  },
  {
   "cell_type": "code",
   "execution_count": null,
   "id": "93614002",
   "metadata": {},
   "outputs": [
    {
     "name": "stdout",
     "output_type": "stream",
     "text": [
      "Skewness:1.7486823542625742\n",
      "Kurtosis:2.277070973344636\n"
     ]
    }
   ],
   "source": [
    "print(f\"Skewness:{de['c_dpy'].skew()}\")\n",
    "print(f\"Kurtosis:{de['c_dpy'].kurt()}\")"
   ]
  }
 ],
 "metadata": {
  "kernelspec": {
   "display_name": "Python 3 (ipykernel)",
   "language": "python",
   "name": "python3"
  },
  "language_info": {
   "codemirror_mode": {
    "name": "ipython",
    "version": 3
   },
   "file_extension": ".py",
   "mimetype": "text/x-python",
   "name": "python",
   "nbconvert_exporter": "python",
   "pygments_lexer": "ipython3",
   "version": "3.9.13"
  }
 },
 "nbformat": 4,
 "nbformat_minor": 5
}
