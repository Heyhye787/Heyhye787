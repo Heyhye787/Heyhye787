{
  "cells": [
    {
      "cell_type": "markdown",
      "metadata": {
        "id": "view-in-github",
        "colab_type": "text"
      },
      "source": [
        "<a href=\"https://colab.research.google.com/github/Heyhye787/Heyhye787/blob/main/20220325.ipynb\" target=\"_parent\"><img src=\"https://colab.research.google.com/assets/colab-badge.svg\" alt=\"Open In Colab\"/></a>"
      ]
    },
    {
      "cell_type": "markdown",
      "metadata": {
        "id": "xSDXdFFP2iEB"
      },
      "source": [
        "# Configuring panadas"
      ]
    },
    {
      "cell_type": "code",
      "execution_count": null,
      "metadata": {
        "collapsed": true,
        "id": "mEPhHgQt2iEE"
      },
      "outputs": [],
      "source": [
        "# import numpy and pandas\n",
        "import numpy as np\n",
        "import pandas as pd\n",
        "\n",
        "# used for dates\n",
        "import datetime\n",
        "from datetime import datetime, date\n",
        "\n",
        "# Set some pandas options controlling output format\n",
        "pd.set_option('display.notebook_repr_html', False)\n",
        "pd.set_option('display.max_columns', 8)\n",
        "pd.set_option('display.max_rows', 10)\n",
        "pd.set_option('display.width', 60)\n",
        "\n",
        "# bring in matplotlib for graphics\n",
        "import matplotlib.pyplot as plt\n",
        "%matplotlib inline\n",
        "\n",
        "# read in the data and print the first five rows\n",
        "# use the Symbol column as the index, and \n",
        "# only read in columns in positions 0, 2, 3, 7\n",
        "sp500 = pd.read_csv(\"data/sp500.csv\", \n",
        "                    index_col='Symbol', \n",
        "                    usecols=[0, 2, 3, 7])"
      ]
    },
    {
      "cell_type": "markdown",
      "metadata": {
        "id": "dmUfSwQy2iEF"
      },
      "source": [
        "# The importance of indexes"
      ]
    },
    {
      "cell_type": "code",
      "execution_count": null,
      "metadata": {
        "id": "Hr0krjNZ2iEG",
        "outputId": "d4f0d265-9f53-4fd3-e5ec-6ac4a99f29b9"
      },
      "outputs": [
        {
          "data": {
            "text/plain": [
              "        foo  key\n",
              "0  0.126970  100\n",
              "1  0.966718  101\n",
              "2  0.260476  102\n",
              "3  0.897237  103\n",
              "4  0.376750  104"
            ]
          },
          "execution_count": 2,
          "metadata": {},
          "output_type": "execute_result"
        }
      ],
      "source": [
        "# create DataFame of random numbers and a key column\n",
        "np.random.seed(123456)\n",
        "df = pd.DataFrame({'foo':np.random.random(10000), 'key':range(100, 10100)})\n",
        "df[:5]"
      ]
    },
    {
      "cell_type": "code",
      "execution_count": null,
      "metadata": {
        "id": "XMP3h_ud2iEG",
        "outputId": "b5e35cee-a62b-4f49-d3ee-ecfb24b9d1cd"
      },
      "outputs": [
        {
          "data": {
            "text/plain": [
              "           foo    key\n",
              "9999  0.272283  10099"
            ]
          },
          "execution_count": 3,
          "metadata": {},
          "output_type": "execute_result"
        }
      ],
      "source": [
        "# boolean select where key is 10099\n",
        "df[df.key==10099]"
      ]
    },
    {
      "cell_type": "code",
      "execution_count": null,
      "metadata": {
        "id": "UfYk7GUu2iEH",
        "outputId": "531a8185-e0a9-4ff6-ee32-1bc2b385fe32"
      },
      "outputs": [
        {
          "name": "stdout",
          "output_type": "stream",
          "text": [
            "1000 loops, best of 3: 392 µs per loop\n"
          ]
        }
      ],
      "source": [
        "# time the select\n",
        "%timeit df[df.key==10099]"
      ]
    },
    {
      "cell_type": "code",
      "execution_count": null,
      "metadata": {
        "id": "dz84_r_v2iEH",
        "outputId": "e7cf760e-83ba-4e9c-a339-cf3412b0f3f2"
      },
      "outputs": [
        {
          "data": {
            "text/plain": [
              "          foo\n",
              "key          \n",
              "100  0.126970\n",
              "101  0.966718\n",
              "102  0.260476\n",
              "103  0.897237\n",
              "104  0.376750"
            ]
          },
          "execution_count": 5,
          "metadata": {},
          "output_type": "execute_result"
        }
      ],
      "source": [
        "# move key to the index\n",
        "df_with_index = df.set_index(['key'])\n",
        "df_with_index[:5]"
      ]
    },
    {
      "cell_type": "code",
      "execution_count": null,
      "metadata": {
        "id": "c_EZQrDA2iEI",
        "outputId": "c87b14dc-1486-406e-8094-416b35a7cf0b"
      },
      "outputs": [
        {
          "data": {
            "text/plain": [
              "foo    0.272283\n",
              "Name: 10099, dtype: float64"
            ]
          },
          "execution_count": 6,
          "metadata": {},
          "output_type": "execute_result"
        }
      ],
      "source": [
        "# now can lookup with the index\n",
        "df_with_index.loc[10099]"
      ]
    },
    {
      "cell_type": "code",
      "execution_count": null,
      "metadata": {
        "id": "Yjgf6oLH2iEI",
        "outputId": "4978458c-17a2-4490-9f22-fa8c020bbcd2"
      },
      "outputs": [
        {
          "name": "stdout",
          "output_type": "stream",
          "text": [
            "The slowest run took 6.60 times longer than the fastest. This could mean that an intermediate result is being cached.\n",
            "10000 loops, best of 3: 72.8 µs per loop\n"
          ]
        }
      ],
      "source": [
        "# and this is a lot faster\n",
        "%timeit df_with_index.loc[10099]"
      ]
    },
    {
      "cell_type": "markdown",
      "metadata": {
        "id": "dKgbF-il2iEJ"
      },
      "source": [
        "# The fundamental index type: Index"
      ]
    },
    {
      "cell_type": "code",
      "execution_count": null,
      "metadata": {
        "id": "IuKk2dRY2iEJ",
        "outputId": "8508e65b-b1a6-4b0e-a28c-d9bb4a8ef444"
      },
      "outputs": [
        {
          "data": {
            "text/plain": [
              "           City  Temperature\n",
              "0      Missoula           70\n",
              "1  Philadelphia           80"
            ]
          },
          "execution_count": 8,
          "metadata": {},
          "output_type": "execute_result"
        }
      ],
      "source": [
        "# show that the columns are actually an index\n",
        "temps = pd.DataFrame({ \"City\": [\"Missoula\", \"Philadelphia\"],\n",
        "                       \"Temperature\": [70, 80] })\n",
        "temps"
      ]
    },
    {
      "cell_type": "code",
      "execution_count": null,
      "metadata": {
        "id": "MtwSXfMH2iEK",
        "outputId": "a182c2b0-77b3-4f18-d842-aa0819580ef8"
      },
      "outputs": [
        {
          "data": {
            "text/plain": [
              "Index(['City', 'Temperature'], dtype='object')"
            ]
          },
          "execution_count": 9,
          "metadata": {},
          "output_type": "execute_result"
        }
      ],
      "source": [
        "# we can see columns is an index\n",
        "temps.columns"
      ]
    },
    {
      "cell_type": "markdown",
      "metadata": {
        "id": "rYm_Ulxm2iEK"
      },
      "source": [
        "# Integer index labels using Int64Index and RangeIndex"
      ]
    },
    {
      "cell_type": "code",
      "execution_count": null,
      "metadata": {
        "id": "_nuyd7DS2iEK",
        "outputId": "94d1ef2a-13e1-47e0-99e2-3225969f52d2"
      },
      "outputs": [
        {
          "data": {
            "text/plain": [
              "    0\n",
              "0  10\n",
              "1  11\n",
              "2  12\n",
              "3  13\n",
              "4  14"
            ]
          },
          "execution_count": 10,
          "metadata": {},
          "output_type": "execute_result"
        }
      ],
      "source": [
        "# explicitly create an Int64Index\n",
        "df_i64 = pd.DataFrame(np.arange(10, 20), index=np.arange(0, 10))\n",
        "df_i64[:5]"
      ]
    },
    {
      "cell_type": "code",
      "execution_count": null,
      "metadata": {
        "id": "bGz4-uvH2iEL",
        "outputId": "e5c97533-a7c5-4170-8bc0-c0471b587a6f"
      },
      "outputs": [
        {
          "data": {
            "text/plain": [
              "Int64Index([0, 1, 2, 3, 4, 5, 6, 7, 8, 9], dtype='int64')"
            ]
          },
          "execution_count": 11,
          "metadata": {},
          "output_type": "execute_result"
        }
      ],
      "source": [
        "# view the index\n",
        "df_i64.index"
      ]
    },
    {
      "cell_type": "code",
      "execution_count": null,
      "metadata": {
        "id": "gHwVGyHf2iEL",
        "outputId": "74682061-841e-4c84-9392-0fbb550d5478"
      },
      "outputs": [
        {
          "data": {
            "text/plain": [
              "    0\n",
              "0  10\n",
              "1  11\n",
              "2  12\n",
              "3  13\n",
              "4  14"
            ]
          },
          "execution_count": 12,
          "metadata": {},
          "output_type": "execute_result"
        }
      ],
      "source": [
        "# by default we are given a RangeIndex\n",
        "df_range = pd.DataFrame(np.arange(10, 15))\n",
        "df_range[:5]"
      ]
    },
    {
      "cell_type": "code",
      "execution_count": null,
      "metadata": {
        "id": "tlBwAhXI2iEL",
        "outputId": "0fe66634-ca40-4408-8608-cca16f6d430f"
      },
      "outputs": [
        {
          "data": {
            "text/plain": [
              "RangeIndex(start=0, stop=5, step=1)"
            ]
          },
          "execution_count": 13,
          "metadata": {},
          "output_type": "execute_result"
        }
      ],
      "source": [
        "df_range.index"
      ]
    },
    {
      "cell_type": "markdown",
      "metadata": {
        "id": "0hpcZQQq2iEL"
      },
      "source": [
        "# Floating point labels using Float64Index"
      ]
    },
    {
      "cell_type": "code",
      "execution_count": null,
      "metadata": {
        "id": "YfwVldVB2iEM",
        "outputId": "1b522a3a-576b-4f72-8a78-99e1a6280bd0"
      },
      "outputs": [
        {
          "data": {
            "text/plain": [
              "      0\n",
              "0.0   0\n",
              "0.5   5\n",
              "1.0  10\n",
              "1.5  15\n",
              "2.0  20"
            ]
          },
          "execution_count": 14,
          "metadata": {},
          "output_type": "execute_result"
        }
      ],
      "source": [
        "# indexes using a Float64Index\n",
        "df_f64 = pd.DataFrame(np.arange(0, 1000, 5), \n",
        "                      np.arange(0.0, 100.0, 0.5))\n",
        "df_f64.iloc[:5] # need iloc to slice first five"
      ]
    },
    {
      "cell_type": "code",
      "execution_count": null,
      "metadata": {
        "id": "uRLFb7Uq2iEM",
        "outputId": "50970e05-5252-4009-fccd-7104b8b0ddcf"
      },
      "outputs": [
        {
          "data": {
            "text/plain": [
              "Float64Index([ 0.0,  0.5,  1.0,  1.5,  2.0,  2.5,  3.0,\n",
              "               3.5,  4.0,  4.5,\n",
              "              ...\n",
              "              95.0, 95.5, 96.0, 96.5, 97.0, 97.5, 98.0,\n",
              "              98.5, 99.0, 99.5],\n",
              "             dtype='float64', length=200)"
            ]
          },
          "execution_count": 15,
          "metadata": {},
          "output_type": "execute_result"
        }
      ],
      "source": [
        "df_f64.index"
      ]
    },
    {
      "cell_type": "markdown",
      "metadata": {
        "id": "ky6emuZm2iEM"
      },
      "source": [
        "# Representing discrete intervals using IntervalIndex"
      ]
    },
    {
      "cell_type": "code",
      "execution_count": null,
      "metadata": {
        "id": "u4_USxTh2iEM",
        "outputId": "586ef386-17cc-4f17-9eff-8a2cbb83697f"
      },
      "outputs": [
        {
          "data": {
            "text/plain": [
              "            A\n",
              "(0.0, 0.5]  1\n",
              "(0.5, 1.0]  2\n",
              "(1.0, 1.5]  3\n",
              "(1.5, 2.0]  4"
            ]
          },
          "execution_count": 16,
          "metadata": {},
          "output_type": "execute_result"
        }
      ],
      "source": [
        "# a DataFrame with an IntervalIndex\n",
        "df_interval = pd.DataFrame({ \"A\": [1, 2, 3, 4]},\n",
        "                    index = pd.IntervalIndex.from_breaks(\n",
        "                        [0, 0.5, 1.0, 1.5, 2.0]))\n",
        "df_interval"
      ]
    },
    {
      "cell_type": "code",
      "execution_count": null,
      "metadata": {
        "id": "J1T2Ciin2iEN",
        "outputId": "6f48e52b-0523-4670-fc38-95512e80b01a"
      },
      "outputs": [
        {
          "data": {
            "text/plain": [
              "IntervalIndex([(0.0, 0.5], (0.5, 1.0], (1.0, 1.5], (1.5, 2.0]]\n",
              "              closed='right',\n",
              "              dtype='interval[float64]')"
            ]
          },
          "execution_count": 17,
          "metadata": {},
          "output_type": "execute_result"
        }
      ],
      "source": [
        "df_interval.index"
      ]
    },
    {
      "cell_type": "markdown",
      "metadata": {
        "collapsed": true,
        "id": "SYm5KreB2iEN"
      },
      "source": [
        "# Categorical values as an index: CategoricalIndex"
      ]
    },
    {
      "cell_type": "code",
      "execution_count": null,
      "metadata": {
        "id": "dgawEgpp2iEN",
        "outputId": "5d1cc0b0-1dd4-4cd5-f530-586507fb8289"
      },
      "outputs": [
        {
          "data": {
            "text/plain": [
              "   A  B\n",
              "0  0  a\n",
              "1  1  a\n",
              "2  2  b\n",
              "3  3  b\n",
              "4  4  c\n",
              "5  5  a"
            ]
          },
          "execution_count": 18,
          "metadata": {},
          "output_type": "execute_result"
        }
      ],
      "source": [
        "# create a DataFrame with a Categorical coulmn\n",
        "df_categorical = pd.DataFrame({'A': np.arange(6),\n",
        "                               'B': list('aabbca')})\n",
        "df_categorical['B'] = df_categorical['B'].astype('category', \n",
        "                                          categories=list('cab'))\n",
        "df_categorical"
      ]
    },
    {
      "cell_type": "code",
      "execution_count": null,
      "metadata": {
        "id": "9AUfmQmp2iEN",
        "outputId": "dc2be62a-c8ce-4d97-80ef-1f7532e6927e"
      },
      "outputs": [
        {
          "data": {
            "text/plain": [
              "CategoricalIndex(['a', 'a', 'b', 'b', 'c', 'a'], categories=['c', 'a', 'b'], ordered=False, name='B', dtype='category')"
            ]
          },
          "execution_count": 19,
          "metadata": {},
          "output_type": "execute_result"
        }
      ],
      "source": [
        "# shift the categorical column to the index\n",
        "df_categorical = df_categorical.set_index('B')\n",
        "df_categorical.index"
      ]
    },
    {
      "cell_type": "code",
      "execution_count": null,
      "metadata": {
        "id": "JyspvzWV2iEN",
        "outputId": "fb6faea8-2c32-48e7-88f6-7b536c82bc17"
      },
      "outputs": [
        {
          "data": {
            "text/plain": [
              "   A\n",
              "B   \n",
              "a  0\n",
              "a  1\n",
              "a  5"
            ]
          },
          "execution_count": 20,
          "metadata": {},
          "output_type": "execute_result"
        }
      ],
      "source": [
        "# lookup values in category 'a'\n",
        "df_categorical.loc['a']"
      ]
    },
    {
      "cell_type": "markdown",
      "metadata": {
        "collapsed": true,
        "id": "r2ImpfJr2iEO"
      },
      "source": [
        "# Indexing by dates and times using DatetimeIndex"
      ]
    },
    {
      "cell_type": "code",
      "execution_count": null,
      "metadata": {
        "id": "VUEkRwB_2iEO",
        "outputId": "d9a98d69-05ff-402d-db51-f4c3e6461968"
      },
      "outputs": [
        {
          "data": {
            "text/plain": [
              "2017-05-01 00:00:00    1.239792\n",
              "2017-05-01 01:00:00   -0.400611\n",
              "2017-05-01 02:00:00    0.718247\n",
              "2017-05-01 03:00:00    0.430499\n",
              "2017-05-01 04:00:00    1.155432\n",
              "Freq: H, dtype: float64"
            ]
          },
          "execution_count": 21,
          "metadata": {},
          "output_type": "execute_result"
        }
      ],
      "source": [
        "# create a DatetimeIndex from a date range\n",
        "rng = pd.date_range('5/1/2017', periods=5, freq='H')\n",
        "ts = pd.Series(np.random.randn(len(rng)), index=rng)\n",
        "ts"
      ]
    },
    {
      "cell_type": "code",
      "execution_count": null,
      "metadata": {
        "id": "X5g2rR7R2iEO",
        "outputId": "7a46cec9-afd4-479e-fb08-e7819a99324a"
      },
      "outputs": [
        {
          "data": {
            "text/plain": [
              "DatetimeIndex(['2017-05-01 00:00:00',\n",
              "               '2017-05-01 01:00:00',\n",
              "               '2017-05-01 02:00:00',\n",
              "               '2017-05-01 03:00:00',\n",
              "               '2017-05-01 04:00:00'],\n",
              "              dtype='datetime64[ns]', freq='H')"
            ]
          },
          "execution_count": 22,
          "metadata": {},
          "output_type": "execute_result"
        }
      ],
      "source": [
        "ts.index"
      ]
    },
    {
      "cell_type": "markdown",
      "metadata": {
        "id": "yPWd5JF02iEO"
      },
      "source": [
        "# Indexing periods of time using PeriodIndex"
      ]
    },
    {
      "cell_type": "code",
      "execution_count": null,
      "metadata": {
        "id": "9U1gx8lK2iEO",
        "outputId": "155e0d55-b597-4128-d0b5-bf09e468e841"
      },
      "outputs": [
        {
          "data": {
            "text/plain": [
              "PeriodIndex(['2017-01', '2017-02', '2017-03'], dtype='period[M]', freq='M')"
            ]
          },
          "execution_count": 23,
          "metadata": {},
          "output_type": "execute_result"
        }
      ],
      "source": [
        "# explicily create a PeriodIndex\n",
        "periods = pd.PeriodIndex(['2017-1', '2017-2', '2017-3'], freq='M')\n",
        "periods"
      ]
    },
    {
      "cell_type": "code",
      "execution_count": null,
      "metadata": {
        "id": "IFN7SMRN2iEO",
        "outputId": "203b9ef3-3967-40ba-e40c-6785804862cc"
      },
      "outputs": [
        {
          "data": {
            "text/plain": [
              "2017-01   -0.449276\n",
              "2017-02    2.472977\n",
              "2017-03   -0.716023\n",
              "Freq: M, dtype: float64"
            ]
          },
          "execution_count": 24,
          "metadata": {},
          "output_type": "execute_result"
        }
      ],
      "source": [
        "# use the index in a Series\n",
        "period_series = pd.Series(np.random.randn(len(periods)), \n",
        "                          index=periods)\n",
        "period_series"
      ]
    },
    {
      "cell_type": "markdown",
      "metadata": {
        "id": "xARcmAYo2iEP"
      },
      "source": [
        "# Creating and using an index with a Series or DataFrame"
      ]
    },
    {
      "cell_type": "code",
      "execution_count": null,
      "metadata": {
        "id": "yEKQa3Bo2iEP",
        "outputId": "81bc1024-145c-48a4-a93c-fbd114c6dedd"
      },
      "outputs": [
        {
          "data": {
            "text/plain": [
              "DatetimeIndex(['2017-05-01 00:00:00',\n",
              "               '2017-05-01 01:00:00',\n",
              "               '2017-05-01 02:00:00',\n",
              "               '2017-05-01 03:00:00',\n",
              "               '2017-05-01 04:00:00'],\n",
              "              dtype='datetime64[ns]', freq='H')"
            ]
          },
          "execution_count": 25,
          "metadata": {},
          "output_type": "execute_result"
        }
      ],
      "source": [
        "# create a DatetimeIndex\n",
        "date_times = pd.DatetimeIndex(pd.date_range('5/1/2017', \n",
        "                                            periods=5, \n",
        "                                            freq='H'))\n",
        "date_times"
      ]
    },
    {
      "cell_type": "code",
      "execution_count": null,
      "metadata": {
        "id": "ww9axfYY2iEP",
        "outputId": "e3ff5b1b-67ec-4868-d621-0d7ef0f8e673"
      },
      "outputs": [
        {
          "data": {
            "text/plain": [
              "                     0\n",
              "2017-05-01 00:00:00  0\n",
              "2017-05-01 01:00:00  1\n",
              "2017-05-01 02:00:00  2\n",
              "2017-05-01 03:00:00  3\n",
              "2017-05-01 04:00:00  4"
            ]
          },
          "execution_count": 26,
          "metadata": {},
          "output_type": "execute_result"
        }
      ],
      "source": [
        "# create a DataFrame using the index\n",
        "df_date_times = pd.DataFrame(np.arange(0, len(date_times)), \n",
        "                             index=date_times)\n",
        "df_date_times"
      ]
    },
    {
      "cell_type": "code",
      "execution_count": null,
      "metadata": {
        "id": "GrEac8D52iEP",
        "outputId": "a052ab47-2703-42e6-eded-416cf3a8f99b"
      },
      "outputs": [
        {
          "data": {
            "text/plain": [
              "                     0\n",
              "2017-06-01 00:00:00  0\n",
              "2017-06-01 01:00:00  1\n",
              "2017-06-01 02:00:00  2\n",
              "2017-06-01 03:00:00  3\n",
              "2017-06-01 04:00:00  4"
            ]
          },
          "execution_count": 27,
          "metadata": {},
          "output_type": "execute_result"
        }
      ],
      "source": [
        "# set the index of a DataFrame\n",
        "df_date_times.index = pd.DatetimeIndex(pd.date_range('6/1/2017', \n",
        "                                                     periods=5, \n",
        "                                                     freq='H'))\n",
        "df_date_times"
      ]
    },
    {
      "cell_type": "markdown",
      "metadata": {
        "id": "EcvC7aP_2iEP"
      },
      "source": [
        "# Selecting values using an index"
      ]
    },
    {
      "cell_type": "code",
      "execution_count": null,
      "metadata": {
        "id": "bVNPrE3-2iEP",
        "outputId": "0197cb32-e2f2-4f2f-ccb9-bf91ab003302"
      },
      "outputs": [
        {
          "data": {
            "text/plain": [
              "a    0\n",
              "b    1\n",
              "c    2\n",
              "d    3\n",
              "e    4\n",
              "dtype: int64"
            ]
          },
          "execution_count": 28,
          "metadata": {},
          "output_type": "execute_result"
        }
      ],
      "source": [
        "# create a series\n",
        "s = pd.Series(np.arange(0, 5), index=list('abcde'))\n",
        "s"
      ]
    },
    {
      "cell_type": "code",
      "execution_count": null,
      "metadata": {
        "id": "O3ytacc42iEQ",
        "outputId": "d7924b67-f97e-4216-97e4-423eac4088d4"
      },
      "outputs": [
        {
          "data": {
            "text/plain": [
              "1"
            ]
          },
          "execution_count": 29,
          "metadata": {},
          "output_type": "execute_result"
        }
      ],
      "source": [
        "# lookup by index label\n",
        "s['b']"
      ]
    },
    {
      "cell_type": "code",
      "execution_count": null,
      "metadata": {
        "id": "5A8PVit12iEQ",
        "outputId": "8164a533-c5e8-4acf-d38e-426721f388ed"
      },
      "outputs": [
        {
          "data": {
            "text/plain": [
              "1"
            ]
          },
          "execution_count": 30,
          "metadata": {},
          "output_type": "execute_result"
        }
      ],
      "source": [
        "# explicit lookup by label\n",
        "s.loc['b']"
      ]
    },
    {
      "cell_type": "code",
      "execution_count": null,
      "metadata": {
        "id": "rjEo3QdJ2iEQ",
        "outputId": "e826f8e5-9bb6-4c74-cba5-4fa85aa4692c"
      },
      "outputs": [
        {
          "data": {
            "text/plain": [
              "    a   b\n",
              "v  10  11\n",
              "w  12  13"
            ]
          },
          "execution_count": 31,
          "metadata": {},
          "output_type": "execute_result"
        }
      ],
      "source": [
        "# create a DataFrame with two columns\n",
        "df = pd.DataFrame([ np.arange(10, 12), \n",
        "                    np.arange(12, 14)], \n",
        "                  columns=list('ab'), \n",
        "                  index=list('vw'))\n",
        "df"
      ]
    },
    {
      "cell_type": "code",
      "execution_count": null,
      "metadata": {
        "id": "a4kue9wx2iEQ",
        "outputId": "cc0fa2ce-eca9-479f-bd5d-f4a71ed2b01a"
      },
      "outputs": [
        {
          "data": {
            "text/plain": [
              "v    10\n",
              "w    12\n",
              "Name: a, dtype: int64"
            ]
          },
          "execution_count": 32,
          "metadata": {},
          "output_type": "execute_result"
        }
      ],
      "source": [
        "# this returns the column 'a'\n",
        "df['a']"
      ]
    },
    {
      "cell_type": "code",
      "execution_count": null,
      "metadata": {
        "id": "9SQB-JEa2iEQ",
        "outputId": "a6150629-ffed-47e5-a1d9-cf3f126f5102"
      },
      "outputs": [
        {
          "data": {
            "text/plain": [
              "a    12\n",
              "b    13\n",
              "Name: w, dtype: int64"
            ]
          },
          "execution_count": 33,
          "metadata": {},
          "output_type": "execute_result"
        }
      ],
      "source": [
        "# return the row 'w' by label\n",
        "df.loc['w']"
      ]
    },
    {
      "cell_type": "code",
      "execution_count": null,
      "metadata": {
        "id": "swz4mtHm2iEQ",
        "outputId": "12d72029-66b8-4406-a9f2-db5e4a506e41"
      },
      "outputs": [
        {
          "data": {
            "text/plain": [
              "b    1\n",
              "c    2\n",
              "d    3\n",
              "dtype: int64"
            ]
          },
          "execution_count": 34,
          "metadata": {},
          "output_type": "execute_result"
        }
      ],
      "source": [
        "# slices the Series from index label b to d\n",
        "s['b':'d']"
      ]
    },
    {
      "cell_type": "code",
      "execution_count": null,
      "metadata": {
        "id": "PBl5RGaX2iEQ",
        "outputId": "9fe88ba7-9075-4317-bb45-3c79a1b0de53"
      },
      "outputs": [
        {
          "data": {
            "text/plain": [
              "b    1\n",
              "c    2\n",
              "d    3\n",
              "dtype: int64"
            ]
          },
          "execution_count": 35,
          "metadata": {},
          "output_type": "execute_result"
        }
      ],
      "source": [
        "# this explicitly slices from label b to d\n",
        "s.loc['b':'d']"
      ]
    },
    {
      "cell_type": "code",
      "execution_count": null,
      "metadata": {
        "id": "6fAY3NiT2iER",
        "outputId": "261c39dd-34ba-4910-8837-5ee3bda5709a"
      },
      "outputs": [
        {
          "data": {
            "text/plain": [
              "a    0\n",
              "c    2\n",
              "e    4\n",
              "dtype: int64"
            ]
          },
          "execution_count": 36,
          "metadata": {},
          "output_type": "execute_result"
        }
      ],
      "source": [
        "# and this looks up rows by label\n",
        "s.loc[['a', 'c', 'e']]"
      ]
    },
    {
      "cell_type": "markdown",
      "metadata": {
        "id": "ceJyKLaJ2iER"
      },
      "source": [
        "# Moving data to and from the index "
      ]
    },
    {
      "cell_type": "code",
      "execution_count": null,
      "metadata": {
        "id": "ZKcElVTL2iER",
        "outputId": "91ba5ec0-37c5-459b-b927-7be8e4ca75e9"
      },
      "outputs": [
        {
          "data": {
            "text/plain": [
              "                        Sector   Price  Book Value\n",
              "Symbol                                            \n",
              "MMM                Industrials  141.14      26.668\n",
              "ABT                Health Care   39.60      15.573\n",
              "ABBV               Health Care   53.95       2.954\n",
              "ACN     Information Technology   79.79       8.326\n",
              "ACE                 Financials  102.91      86.897"
            ]
          },
          "execution_count": 37,
          "metadata": {},
          "output_type": "execute_result"
        }
      ],
      "source": [
        "# examine asome of the sp500 data\n",
        "sp500[:5]"
      ]
    },
    {
      "cell_type": "code",
      "execution_count": null,
      "metadata": {
        "id": "BhyeZFrk2iER",
        "outputId": "4fb07920-e77c-4380-b8b5-c54b8c8f8de2"
      },
      "outputs": [
        {
          "data": {
            "text/plain": [
              "  Symbol                  Sector   Price  Book Value\n",
              "0    MMM             Industrials  141.14      26.668\n",
              "1    ABT             Health Care   39.60      15.573\n",
              "2   ABBV             Health Care   53.95       2.954\n",
              "3    ACN  Information Technology   79.79       8.326\n",
              "4    ACE              Financials  102.91      86.897"
            ]
          },
          "execution_count": 38,
          "metadata": {},
          "output_type": "execute_result"
        }
      ],
      "source": [
        "# reset the index which moves the values in the index to a column\n",
        "index_moved_to_col = sp500.reset_index()\n",
        "index_moved_to_col[:5]"
      ]
    },
    {
      "cell_type": "code",
      "execution_count": null,
      "metadata": {
        "id": "Gmx7NwJ62iER",
        "outputId": "28f263dd-c086-4a17-e51e-41fa79b85e40"
      },
      "outputs": [
        {
          "data": {
            "text/plain": [
              "                       Symbol   Price  Book Value\n",
              "Sector                                           \n",
              "Industrials               MMM  141.14      26.668\n",
              "Health Care               ABT   39.60      15.573\n",
              "Health Care              ABBV   53.95       2.954\n",
              "Information Technology    ACN   79.79       8.326\n",
              "Financials                ACE  102.91      86.897"
            ]
          },
          "execution_count": 39,
          "metadata": {},
          "output_type": "execute_result"
        }
      ],
      "source": [
        "# and now set the Sector column to be the index\n",
        "index_moved_to_col.set_index('Sector')[:5]"
      ]
    },
    {
      "cell_type": "code",
      "execution_count": null,
      "metadata": {
        "id": "yzYiK-Op2iER",
        "outputId": "8b22a124-7f31-4579-a9d8-3ca0e0ca90e3"
      },
      "outputs": [
        {
          "data": {
            "text/plain": [
              "             Sector   Price  Book Value\n",
              "Symbol                                 \n",
              "MMM     Industrials  141.14      26.668\n",
              "ABBV    Health Care   53.95       2.954\n",
              "FOO             NaN     NaN         NaN"
            ]
          },
          "execution_count": 40,
          "metadata": {},
          "output_type": "execute_result"
        }
      ],
      "source": [
        "# reindex to have MMM, ABBV, and FOO index labels\n",
        "reindexed = sp500.reindex(index=['MMM', 'ABBV', 'FOO'])\n",
        "# note that ABT and ACN are dropped and FOO has NaN values\n",
        "reindexed"
      ]
    },
    {
      "cell_type": "code",
      "execution_count": null,
      "metadata": {
        "id": "i6-J7M2S2iER",
        "outputId": "6e1ba389-9fe0-450f-abc9-12ee1ec145e3"
      },
      "outputs": [
        {
          "data": {
            "text/plain": [
              "         Price  Book Value  NewCol\n",
              "Symbol                            \n",
              "MMM     141.14      26.668     NaN\n",
              "ABT      39.60      15.573     NaN\n",
              "ABBV     53.95       2.954     NaN\n",
              "ACN      79.79       8.326     NaN\n",
              "ACE     102.91      86.897     NaN"
            ]
          },
          "execution_count": 41,
          "metadata": {},
          "output_type": "execute_result"
        }
      ],
      "source": [
        "# reindex columns\n",
        "sp500.reindex(columns=['Price', \n",
        "                       'Book Value', \n",
        "                       'NewCol'])[:5]"
      ]
    },
    {
      "cell_type": "markdown",
      "metadata": {
        "id": "pB5t9p6c2iES"
      },
      "source": [
        "# Hierarchical indexing"
      ]
    },
    {
      "cell_type": "code",
      "execution_count": null,
      "metadata": {
        "id": "FMs9WTHD2iES",
        "outputId": "44d0aacd-1dd9-4610-c9a5-0f970c599f93"
      },
      "outputs": [
        {
          "data": {
            "text/plain": [
              "                                Price  Book Value\n",
              "Sector                 Symbol                    \n",
              "Industrials            MMM     141.14      26.668\n",
              "Health Care            ABT      39.60      15.573\n",
              "                       ABBV     53.95       2.954\n",
              "Information Technology ACN      79.79       8.326\n",
              "Financials             ACE     102.91      86.897"
            ]
          },
          "execution_count": 42,
          "metadata": {},
          "output_type": "execute_result"
        }
      ],
      "source": [
        "# first, push symbol into a column\n",
        "reindexed = sp500.reset_index()\n",
        "# and now index sp500 by sector and symbol\n",
        "multi_fi = reindexed.set_index(['Sector', 'Symbol'])\n",
        "multi_fi[:5]"
      ]
    },
    {
      "cell_type": "code",
      "execution_count": null,
      "metadata": {
        "id": "a0ZIMsVp2iES",
        "outputId": "8f78ff34-ea82-4238-cae1-ebd340798205"
      },
      "outputs": [
        {
          "data": {
            "text/plain": [
              "pandas.core.indexes.multi.MultiIndex"
            ]
          },
          "execution_count": 43,
          "metadata": {},
          "output_type": "execute_result"
        }
      ],
      "source": [
        "# the index is a MultiIndex\n",
        "type(multi_fi.index)"
      ]
    },
    {
      "cell_type": "code",
      "execution_count": null,
      "metadata": {
        "id": "3Ws_zm8k2iES",
        "outputId": "4fda2338-aae7-49db-ab66-61eda1496bd1"
      },
      "outputs": [
        {
          "data": {
            "text/plain": [
              "2"
            ]
          },
          "execution_count": 44,
          "metadata": {},
          "output_type": "execute_result"
        }
      ],
      "source": [
        "# this has two levels\n",
        "len(multi_fi.index.levels)"
      ]
    },
    {
      "cell_type": "code",
      "execution_count": null,
      "metadata": {
        "id": "pwLVVGfr2iES",
        "outputId": "e46dad6a-2320-4e60-b6bd-8a4f9478e8a0"
      },
      "outputs": [
        {
          "data": {
            "text/plain": [
              "Index(['Consumer Discretionary', 'Consumer Discretionary ',\n",
              "       'Consumer Staples', 'Consumer Staples ', 'Energy',\n",
              "       'Financials', 'Health Care', 'Industrials',\n",
              "       'Industries', 'Information Technology', 'Materials',\n",
              "       'Telecommunications Services', 'Utilities'],\n",
              "      dtype='object', name='Sector')"
            ]
          },
          "execution_count": 45,
          "metadata": {},
          "output_type": "execute_result"
        }
      ],
      "source": [
        "# each index level is an index\n",
        "multi_fi.index.levels[0]"
      ]
    },
    {
      "cell_type": "code",
      "execution_count": null,
      "metadata": {
        "id": "m4J-Prk22iES",
        "outputId": "45e7c783-15a8-4336-f448-e32c346747e9"
      },
      "outputs": [
        {
          "data": {
            "text/plain": [
              "Index(['A', 'AA', 'AAPL', 'ABBV', 'ABC', 'ABT', 'ACE',\n",
              "       'ACN', 'ACT', 'ADBE',\n",
              "       ...\n",
              "       'XLNX', 'XOM', 'XRAY', 'XRX', 'XYL', 'YHOO', 'YUM',\n",
              "       'ZION', 'ZMH', 'ZTS'],\n",
              "      dtype='object', name='Symbol', length=500)"
            ]
          },
          "execution_count": 46,
          "metadata": {},
          "output_type": "execute_result"
        }
      ],
      "source": [
        "# each index level is an index\n",
        "multi_fi.index.levels[1]"
      ]
    },
    {
      "cell_type": "code",
      "execution_count": null,
      "metadata": {
        "id": "DLoABpER2iET",
        "outputId": "897d9aad-6107-48ad-e050-8a4dda489bf0"
      },
      "outputs": [
        {
          "data": {
            "text/plain": [
              "Index(['Industrials', 'Health Care', 'Health Care',\n",
              "       'Information Technology', 'Financials',\n",
              "       'Health Care', 'Information Technology',\n",
              "       'Utilities', 'Health Care', 'Financials',\n",
              "       ...\n",
              "       'Utilities', 'Information Technology',\n",
              "       'Information Technology', 'Financials',\n",
              "       'Industrials', 'Information Technology',\n",
              "       'Consumer Discretionary', 'Health Care',\n",
              "       'Financials', 'Health Care'],\n",
              "      dtype='object', name='Sector', length=500)"
            ]
          },
          "execution_count": 47,
          "metadata": {},
          "output_type": "execute_result"
        }
      ],
      "source": [
        "# values of index level 0\n",
        "multi_fi.index.get_level_values(0)"
      ]
    },
    {
      "cell_type": "code",
      "execution_count": null,
      "metadata": {
        "id": "4tQ2bkSo2iET",
        "outputId": "e454fb33-a0f2-4c9a-a784-83de4f0d741e"
      },
      "outputs": [
        {
          "data": {
            "text/plain": [
              "         Price  Book Value\n",
              "Symbol                    \n",
              "MMM     141.14      26.668\n",
              "ALLE     52.46       0.000\n",
              "APH      95.71      18.315\n",
              "AVY      48.20      15.616\n",
              "BA      132.41      19.870"
            ]
          },
          "execution_count": 48,
          "metadata": {},
          "output_type": "execute_result"
        }
      ],
      "source": [
        "# get all stocks that are Industrials\n",
        "# note the result drops level 0 of the index\n",
        "multi_fi.xs('Industrials')[:5]"
      ]
    },
    {
      "cell_type": "code",
      "execution_count": null,
      "metadata": {
        "id": "o2orkWYK2iET",
        "outputId": "2456fea3-8cfd-42f6-97c1-a328faf6fe2a"
      },
      "outputs": [
        {
          "data": {
            "text/plain": [
              "             Price  Book Value\n",
              "Sector                        \n",
              "Industrials  52.46         0.0"
            ]
          },
          "execution_count": 49,
          "metadata": {},
          "output_type": "execute_result"
        }
      ],
      "source": [
        "# select rows where level 1 (Symbol) is ALLE\n",
        "# note that the Sector level is dropped from the result\n",
        "multi_fi.xs('ALLE', level=1)"
      ]
    },
    {
      "cell_type": "code",
      "execution_count": null,
      "metadata": {
        "id": "1-1muXee2iET",
        "outputId": "2bcfc091-b2da-4c68-baad-359b09f81072"
      },
      "outputs": [
        {
          "data": {
            "text/plain": [
              "                     Price  Book Value\n",
              "Sector      Symbol                    \n",
              "Industrials MMM     141.14      26.668\n",
              "            ALLE     52.46       0.000\n",
              "            APH      95.71      18.315\n",
              "            AVY      48.20      15.616\n",
              "            BA      132.41      19.870"
            ]
          },
          "execution_count": 50,
          "metadata": {},
          "output_type": "execute_result"
        }
      ],
      "source": [
        "# Industrials, without dropping the level\n",
        "multi_fi.xs('Industrials', drop_level=False)[:5]"
      ]
    },
    {
      "cell_type": "code",
      "execution_count": null,
      "metadata": {
        "id": "HhpvgcXo2iET",
        "outputId": "b93c6070-2d38-4516-c940-8e2b083a94fd"
      },
      "outputs": [
        {
          "data": {
            "text/plain": [
              "Price         102.73\n",
              "Book Value      6.79\n",
              "Name: UPS, dtype: float64"
            ]
          },
          "execution_count": 51,
          "metadata": {},
          "output_type": "execute_result"
        }
      ],
      "source": [
        "# drill through the levels\n",
        "multi_fi.xs('Industrials').xs('UPS')"
      ]
    },
    {
      "cell_type": "code",
      "execution_count": null,
      "metadata": {
        "id": "byWFJ8z12iET",
        "outputId": "f9a0237c-cb54-45ef-b00c-6771fa470d9d"
      },
      "outputs": [
        {
          "data": {
            "text/plain": [
              "Price         102.73\n",
              "Book Value      6.79\n",
              "Name: (Industrials, UPS), dtype: float64"
            ]
          },
          "execution_count": 52,
          "metadata": {},
          "output_type": "execute_result"
        }
      ],
      "source": [
        "# drill through using tuples\n",
        "multi_fi.xs(('Industrials', 'UPS'))"
      ]
    }
  ],
  "metadata": {
    "anaconda-cloud": {},
    "kernelspec": {
      "display_name": "Python 3",
      "language": "python",
      "name": "python3"
    },
    "language_info": {
      "codemirror_mode": {
        "name": "ipython",
        "version": 3
      },
      "file_extension": ".py",
      "mimetype": "text/x-python",
      "name": "python",
      "nbconvert_exporter": "python",
      "pygments_lexer": "ipython3",
      "version": "3.6.1"
    },
    "colab": {
      "name": "「06_Working with Indexes.ipynb」的副本",
      "provenance": [],
      "include_colab_link": true
    }
  },
  "nbformat": 4,
  "nbformat_minor": 0
}